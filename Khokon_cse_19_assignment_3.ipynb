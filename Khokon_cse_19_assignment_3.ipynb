{
 "cells": [
  {
   "cell_type": "markdown",
   "id": "unique-bubble",
   "metadata": {},
   "source": [
    "<h1>About Flow Control"
   ]
  },
  {
   "cell_type": "markdown",
   "id": "sixth-zambia",
   "metadata": {},
   "source": [
    "<b>1.What is flow control?"
   ]
  },
  {
   "cell_type": "markdown",
   "id": "faced-copyright",
   "metadata": {},
   "source": [
    "<p>Ans:The statment which control execution flow at runtime are called flow control."
   ]
  },
  {
   "cell_type": "markdown",
   "id": "developed-collection",
   "metadata": {},
   "source": [
    "<b>2.List all flow control with example"
   ]
  },
  {
   "cell_type": "markdown",
   "id": "intense-editing",
   "metadata": {},
   "source": [
    "Ans:● Sequential(a=10,b=6 when we print a and b ,its print sequentialy)\n",
    "● Conditional Statement\n",
    "○ If\n",
    "○ If else\n",
    "○ If elif else\n",
    "○ If elif\n",
    "\n",
    "● Iterative statement\n",
    "○ For\n",
    "○ while\n",
    "\n",
    "● Transfer statement\n",
    "○ Break\n",
    "○ Continue"
   ]
  },
  {
   "cell_type": "markdown",
   "id": "parliamentary-membrane",
   "metadata": {},
   "source": [
    "<h1>Conditional statement"
   ]
  },
  {
   "cell_type": "markdown",
   "id": "interstate-borough",
   "metadata": {},
   "source": [
    "<b>1.What is conditional statement?"
   ]
  },
  {
   "cell_type": "markdown",
   "id": "about-singing",
   "metadata": {},
   "source": [
    "<p>Ans:Conditional Statements in python programming are used to make decisions based on the conditions. Conditional statements execute sequentially when there is no condition around the statements. If you put some condition for a block of statements, the execution flow may change based on the result evaluated by the condition."
   ]
  },
  {
   "cell_type": "markdown",
   "id": "enabling-columbia",
   "metadata": {},
   "source": [
    "<b>2.Describe structure of conditional statement"
   ]
  },
  {
   "cell_type": "markdown",
   "id": "happy-alberta",
   "metadata": {},
   "source": [
    "<p>Ans:In Python programming language we have the following 4 conditional control structures.<br/>\n",
    "1.Simple if-statement.<br/>\n",
    "2.If-else statement.<br/>\n",
    "3.If-elif-else statement.<br/>\n",
    "4.Nested if statement.<br/>"
   ]
  },
  {
   "cell_type": "markdown",
   "id": "surface-hughes",
   "metadata": {},
   "source": [
    "if(condition 1):<br/>\n",
    " ....print statement 1\n",
    " \n",
    " elif(condition 2):<br/>\n",
    " ...print statement 2\n",
    " \n",
    " else:<br/>\n",
    "  ...print statement"
   ]
  },
  {
   "cell_type": "markdown",
   "id": "numeric-japanese",
   "metadata": {},
   "source": [
    "<h1>Problem 1"
   ]
  },
  {
   "cell_type": "markdown",
   "id": "impaired-kingdom",
   "metadata": {},
   "source": [
    "<b>Take input from a user and check whether the number is odd or even?"
   ]
  },
  {
   "cell_type": "code",
   "execution_count": 2,
   "id": "owned-lambda",
   "metadata": {},
   "outputs": [
    {
     "name": "stdout",
     "output_type": "stream",
     "text": [
      "enter any number:22\n",
      "Even\n"
     ]
    }
   ],
   "source": [
    "num=int(input(\"enter any number:\"))\n",
    "if(num%2==0):\n",
    "    print(\"Even\")\n",
    "    \n",
    "else:\n",
    "    print(\"Odd\")"
   ]
  },
  {
   "cell_type": "markdown",
   "id": "rising-millennium",
   "metadata": {},
   "source": [
    "<h1>Problem 2"
   ]
  },
  {
   "cell_type": "markdown",
   "id": "existing-transition",
   "metadata": {},
   "source": [
    "<b>1.Print number of sample, if 100 <= a < 200, and a is divisible by 9"
   ]
  },
  {
   "cell_type": "code",
   "execution_count": 6,
   "id": "disabled-ethiopia",
   "metadata": {},
   "outputs": [
    {
     "name": "stdout",
     "output_type": "stream",
     "text": [
      "enter a:198\n",
      "Yes\n"
     ]
    }
   ],
   "source": [
    "a=int(input(\"enter a:\"))\n",
    "if(a>=100 and a<200 and a%9==0):\n",
    "    print(\"Yes\")\n",
    "    \n",
    "else:\n",
    "    print(\"No\")"
   ]
  },
  {
   "cell_type": "markdown",
   "id": "juvenile-moral",
   "metadata": {},
   "source": [
    "<b>2.Display those numbers which are divisible by 7 and multiple of 5, between 500 and 100"
   ]
  },
  {
   "cell_type": "code",
   "execution_count": 8,
   "id": "surrounded-chile",
   "metadata": {},
   "outputs": [
    {
     "name": "stdout",
     "output_type": "stream",
     "text": [
      "Enter number:106\n",
      "Not divisible\n"
     ]
    }
   ],
   "source": [
    "num=int(input(\"Enter number:\"))\n",
    "if(num>=100 and num<=500 and num%7==0 and num%5==0):\n",
    "    print(\"Divisible\")\n",
    "    \n",
    "else:\n",
    "    print(\"Not divisible\")"
   ]
  },
  {
   "cell_type": "markdown",
   "id": "literary-geography",
   "metadata": {},
   "source": [
    "<h1>Problem 3"
   ]
  },
  {
   "cell_type": "markdown",
   "id": "wooden-montgomery",
   "metadata": {},
   "source": [
    "<b>Take year as a integer input from a user,\n",
    "○ check whether the year is leap year or not?"
   ]
  },
  {
   "cell_type": "code",
   "execution_count": 9,
   "id": "sharing-three",
   "metadata": {},
   "outputs": [
    {
     "name": "stdout",
     "output_type": "stream",
     "text": [
      "Enter year:2000\n",
      "Leap year\n"
     ]
    }
   ],
   "source": [
    "year=int(input(\"Enter year:\"))\n",
    "if(year%400==0):\n",
    "    print(\"Leap year\")\n",
    "    \n",
    "elif(year%4==0 and year%100!=0):\n",
    "    print(\"Leap year\")\n",
    "    \n",
    "else:\n",
    "    print(\"Not Leap year\")"
   ]
  },
  {
   "cell_type": "markdown",
   "id": "composed-vietnam",
   "metadata": {},
   "source": [
    "<h1>Problem 4"
   ]
  },
  {
   "cell_type": "markdown",
   "id": "supposed-newark",
   "metadata": {},
   "source": [
    "<b>Make a simple calculator"
   ]
  },
  {
   "cell_type": "code",
   "execution_count": 17,
   "id": "classical-suspension",
   "metadata": {},
   "outputs": [
    {
     "name": "stdout",
     "output_type": "stream",
     "text": [
      "Enter input one:+,-,*,/\n",
      "Enter input two:6\n",
      "Enter input three:3\n",
      "9\n",
      "3\n",
      "18\n",
      "2.0\n"
     ]
    }
   ],
   "source": [
    "a=input(\"Enter input one:\")\n",
    "b=int(input(\"Enter input two:\"))\n",
    "c=int(input(\"Enter input three:\"))\n",
    "print(b+c)\n",
    "print(b-c)\n",
    "print(b*c)\n",
    "print(b/c)"
   ]
  },
  {
   "cell_type": "markdown",
   "id": "settled-alert",
   "metadata": {},
   "source": [
    "<h1>Problem 5"
   ]
  },
  {
   "cell_type": "markdown",
   "id": "naked-frank",
   "metadata": {},
   "source": [
    "<b>.Take a number from a user, check if the number is positive or negative or zero\n",
    "and display an appropirate message"
   ]
  },
  {
   "cell_type": "code",
   "execution_count": 4,
   "id": "proved-luxembourg",
   "metadata": {},
   "outputs": [
    {
     "name": "stdout",
     "output_type": "stream",
     "text": [
      "Enter any number:-8\n",
      "Negative\n"
     ]
    }
   ],
   "source": [
    "num=int(input(\"Enter any number:\"))\n",
    "if(num>0):\n",
    "    print(\"positive\")\n",
    "    \n",
    "elif(num==0):\n",
    "    print(\"Zero\")\n",
    "    \n",
    "else:\n",
    "    print(\"Negative\")"
   ]
  },
  {
   "cell_type": "markdown",
   "id": "coupled-museum",
   "metadata": {},
   "source": [
    "<h1>Problem 6"
   ]
  },
  {
   "cell_type": "markdown",
   "id": "successful-effort",
   "metadata": {},
   "source": [
    "<b>Take values of length and breadth of a rectangle from a user and check if it is\n",
    "square or not."
   ]
  },
  {
   "cell_type": "code",
   "execution_count": 6,
   "id": "filled-metabolism",
   "metadata": {},
   "outputs": [
    {
     "name": "stdout",
     "output_type": "stream",
     "text": [
      "Enter length:4\n",
      "Enter breadth:5\n",
      "it is a rectangle\n"
     ]
    }
   ],
   "source": [
    "l=int(input(\"Enter length:\"))\n",
    "b=int(input(\"Enter breadth:\"))\n",
    "if(l==b):\n",
    "    print(\"it is a square\")\n",
    "    \n",
    "else:\n",
    "    print(\"it is a rectangle\")\n"
   ]
  },
  {
   "cell_type": "markdown",
   "id": "consolidated-disposal",
   "metadata": {},
   "source": [
    "<h1>Problem 7"
   ]
  },
  {
   "cell_type": "markdown",
   "id": "mysterious-wilson",
   "metadata": {},
   "source": [
    "<b>Take three int values from a user and display the highest and lowest number among them"
   ]
  },
  {
   "cell_type": "code",
   "execution_count": 11,
   "id": "suited-pacific",
   "metadata": {},
   "outputs": [
    {
     "name": "stdout",
     "output_type": "stream",
     "text": [
      "Enter number one:32\n",
      "Enter number two:22\n",
      "Enter number three:12\n",
      "smallest number is 12\n",
      "Biggest number is 32\n"
     ]
    }
   ],
   "source": [
    "num1=int(input(\"Enter number one:\"))\n",
    "num2=int(input(\"Enter number two:\"))\n",
    "num3=int(input(\"Enter number three:\"))\n",
    "if(num1<num2 and num1<num3):\n",
    "    print(\"smallest number is\",num1)\n",
    "    \n",
    "elif(num2<num3):\n",
    "    print(\"smallest number is\",num2)\n",
    "    \n",
    "else:\n",
    "    print(\"smallest number is\",num3)\n",
    "    \n",
    "if(num1>num2 and num1>num3):\n",
    "    print(\"Biggest number is\",num1)\n",
    "    \n",
    "elif(num2>num3):\n",
    "    print(\"Biggest number is\",num2)\n",
    "    \n",
    "else:\n",
    "    print(\"Biggest number is\",num3)"
   ]
  },
  {
   "cell_type": "markdown",
   "id": "prepared-meter",
   "metadata": {},
   "source": [
    "<h1>Problem 8"
   ]
  },
  {
   "cell_type": "markdown",
   "id": "infrared-retailer",
   "metadata": {},
   "source": [
    "<b>Ask a user to enter marks and print the corresponding grade."
   ]
  },
  {
   "cell_type": "code",
   "execution_count": 15,
   "id": "incorrect-great",
   "metadata": {},
   "outputs": [
    {
     "name": "stdout",
     "output_type": "stream",
     "text": [
      "Enter marks:90\n",
      "A+\n"
     ]
    }
   ],
   "source": [
    "m=int(input(\"Enter marks:\"))\n",
    "if(m>=80):\n",
    "    print(\"A+\")\n",
    "    \n",
    "elif(m>=70 and m<80):\n",
    "    print(\"A\")\n",
    "    \n",
    "elif(m>=60 and m<70):\n",
    "    print(\"A-\")\n",
    "    \n",
    "elif(m>=50 and m<60):\n",
    "    print(\"B\")\n",
    "    \n",
    "elif(m>=40 and m<50):\n",
    "    print(\"C\")\n",
    "\n",
    "elif(m>=30 and m<40):\n",
    "    print(\"F\")\n",
    "\n",
    "else:\n",
    "    print(\"Fail\")"
   ]
  },
  {
   "cell_type": "code",
   "execution_count": null,
   "id": "mineral-onion",
   "metadata": {},
   "outputs": [],
   "source": []
  }
 ],
 "metadata": {
  "kernelspec": {
   "display_name": "Python 3",
   "language": "python",
   "name": "python3"
  },
  "language_info": {
   "codemirror_mode": {
    "name": "ipython",
    "version": 3
   },
   "file_extension": ".py",
   "mimetype": "text/x-python",
   "name": "python",
   "nbconvert_exporter": "python",
   "pygments_lexer": "ipython3",
   "version": "3.9.2"
  }
 },
 "nbformat": 4,
 "nbformat_minor": 5
}
